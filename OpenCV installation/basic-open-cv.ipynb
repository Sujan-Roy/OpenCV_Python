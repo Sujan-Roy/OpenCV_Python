{
 "cells": [
  {
   "cell_type": "code",
   "execution_count": 1,
   "id": "5427035c",
   "metadata": {
    "execution": {
     "iopub.execute_input": "2023-02-23T12:53:57.755056Z",
     "iopub.status.busy": "2023-02-23T12:53:57.754610Z",
     "iopub.status.idle": "2023-02-23T12:54:08.724421Z",
     "shell.execute_reply": "2023-02-23T12:54:08.723228Z"
    },
    "papermill": {
     "duration": 10.976765,
     "end_time": "2023-02-23T12:54:08.727096",
     "exception": false,
     "start_time": "2023-02-23T12:53:57.750331",
     "status": "completed"
    },
    "tags": []
   },
   "outputs": [
    {
     "name": "stdout",
     "output_type": "stream",
     "text": [
      "/bin/bash: /opt/conda/lib/libtinfo.so.6: no version information available (required by /bin/bash)\r\n",
      "Requirement already satisfied: opencv-python in /opt/conda/lib/python3.7/site-packages (4.5.4.60)\r\n",
      "Requirement already satisfied: numpy>=1.14.5 in /opt/conda/lib/python3.7/site-packages (from opencv-python) (1.21.6)\r\n",
      "\u001b[33mWARNING: Running pip as the 'root' user can result in broken permissions and conflicting behaviour with the system package manager. It is recommended to use a virtual environment instead: https://pip.pypa.io/warnings/venv\u001b[0m\u001b[33m\r\n",
      "\u001b[0m"
     ]
    }
   ],
   "source": [
    "!pip install opencv-python # opencv install in kaggle"
   ]
  },
  {
   "cell_type": "code",
   "execution_count": 2,
   "id": "0a2a0557",
   "metadata": {
    "execution": {
     "iopub.execute_input": "2023-02-23T12:54:08.733348Z",
     "iopub.status.busy": "2023-02-23T12:54:08.733018Z",
     "iopub.status.idle": "2023-02-23T12:54:08.923366Z",
     "shell.execute_reply": "2023-02-23T12:54:08.921987Z"
    },
    "papermill": {
     "duration": 0.196296,
     "end_time": "2023-02-23T12:54:08.926005",
     "exception": false,
     "start_time": "2023-02-23T12:54:08.729709",
     "status": "completed"
    },
    "tags": []
   },
   "outputs": [
    {
     "name": "stdout",
     "output_type": "stream",
     "text": [
      "4.5.4\n"
     ]
    }
   ],
   "source": [
    "import cv2 \n",
    "print (cv2. __version__) # check the version\n"
   ]
  },
  {
   "cell_type": "code",
   "execution_count": 3,
   "id": "a4ed9416",
   "metadata": {
    "execution": {
     "iopub.execute_input": "2023-02-23T12:54:08.932405Z",
     "iopub.status.busy": "2023-02-23T12:54:08.931592Z",
     "iopub.status.idle": "2023-02-23T12:54:09.007876Z",
     "shell.execute_reply": "2023-02-23T12:54:09.006608Z"
    },
    "papermill": {
     "duration": 0.080687,
     "end_time": "2023-02-23T12:54:09.009331",
     "exception": true,
     "start_time": "2023-02-23T12:54:08.928644",
     "status": "failed"
    },
    "tags": []
   },
   "outputs": [
    {
     "ename": "AssertionError",
     "evalue": "invalid action: 'Ignore'",
     "output_type": "error",
     "traceback": [
      "\u001b[0;31m---------------------------------------------------------------------------\u001b[0m",
      "\u001b[0;31mAssertionError\u001b[0m                            Traceback (most recent call last)",
      "\u001b[0;32m/tmp/ipykernel_24/3166012607.py\u001b[0m in \u001b[0;36m<module>\u001b[0;34m\u001b[0m\n\u001b[1;32m      4\u001b[0m \u001b[0;34m\u001b[0m\u001b[0m\n\u001b[1;32m      5\u001b[0m \u001b[0mget_ipython\u001b[0m\u001b[0;34m(\u001b[0m\u001b[0;34m)\u001b[0m\u001b[0;34m.\u001b[0m\u001b[0mrun_line_magic\u001b[0m\u001b[0;34m(\u001b[0m\u001b[0;34m'matplotlib'\u001b[0m\u001b[0;34m,\u001b[0m \u001b[0;34m'inline'\u001b[0m\u001b[0;34m)\u001b[0m\u001b[0;34m\u001b[0m\u001b[0;34m\u001b[0m\u001b[0m\n\u001b[0;32m----> 6\u001b[0;31m \u001b[0mwarnings\u001b[0m\u001b[0;34m.\u001b[0m\u001b[0mfilterwarnings\u001b[0m\u001b[0;34m(\u001b[0m\u001b[0;34m\"Ignore\"\u001b[0m\u001b[0;34m)\u001b[0m \u001b[0;31m# initially igonore the all warnings\u001b[0m\u001b[0;34m\u001b[0m\u001b[0;34m\u001b[0m\u001b[0m\n\u001b[0m",
      "\u001b[0;32m/opt/conda/lib/python3.7/warnings.py\u001b[0m in \u001b[0;36mfilterwarnings\u001b[0;34m(action, message, category, module, lineno, append)\u001b[0m\n\u001b[1;32m    141\u001b[0m     \"\"\"\n\u001b[1;32m    142\u001b[0m     assert action in (\"error\", \"ignore\", \"always\", \"default\", \"module\",\n\u001b[0;32m--> 143\u001b[0;31m                       \"once\"), \"invalid action: %r\" % (action,)\n\u001b[0m\u001b[1;32m    144\u001b[0m     \u001b[0;32massert\u001b[0m \u001b[0misinstance\u001b[0m\u001b[0;34m(\u001b[0m\u001b[0mmessage\u001b[0m\u001b[0;34m,\u001b[0m \u001b[0mstr\u001b[0m\u001b[0;34m)\u001b[0m\u001b[0;34m,\u001b[0m \u001b[0;34m\"message must be a string\"\u001b[0m\u001b[0;34m\u001b[0m\u001b[0;34m\u001b[0m\u001b[0m\n\u001b[1;32m    145\u001b[0m     \u001b[0;32massert\u001b[0m \u001b[0misinstance\u001b[0m\u001b[0;34m(\u001b[0m\u001b[0mcategory\u001b[0m\u001b[0;34m,\u001b[0m \u001b[0mtype\u001b[0m\u001b[0;34m)\u001b[0m\u001b[0;34m,\u001b[0m \u001b[0;34m\"category must be a class\"\u001b[0m\u001b[0;34m\u001b[0m\u001b[0;34m\u001b[0m\u001b[0m\n",
      "\u001b[0;31mAssertionError\u001b[0m: invalid action: 'Ignore'"
     ]
    }
   ],
   "source": [
    "import numpy as np\n",
    "import matplotlib.pyplot as plt\n",
    "import warnings\n",
    "\n",
    "%matplotlib inline\n",
    "warnings.filterwarnings(\"ignore\") # initially igonore the all warnings"
   ]
  },
  {
   "cell_type": "code",
   "execution_count": null,
   "id": "7d2f7c44",
   "metadata": {
    "execution": {
     "iopub.execute_input": "2023-02-23T12:52:47.932704Z",
     "iopub.status.busy": "2023-02-23T12:52:47.932204Z",
     "iopub.status.idle": "2023-02-23T12:52:48.253614Z",
     "shell.execute_reply": "2023-02-23T12:52:48.252765Z",
     "shell.execute_reply.started": "2023-02-23T12:52:47.932665Z"
    },
    "papermill": {
     "duration": null,
     "end_time": null,
     "exception": null,
     "start_time": null,
     "status": "pending"
    },
    "tags": []
   },
   "outputs": [],
   "source": [
    "image=plt.imread(\"../input/basicopen/inputcat1.jpg\") # location of the image. Please indiacte the image location carefully. \n",
    "# My image location input.-->basicopen(folder)-->image.jpg\n",
    "plt.imshow(image) # show the image\n",
    "plt.show()\n",
    "print(\"Show the image y-axis,x-axis,RGB=\",image.shape)"
   ]
  },
  {
   "cell_type": "code",
   "execution_count": null,
   "id": "20746257",
   "metadata": {
    "papermill": {
     "duration": null,
     "end_time": null,
     "exception": null,
     "start_time": null,
     "status": "pending"
    },
    "tags": []
   },
   "outputs": [],
   "source": []
  }
 ],
 "metadata": {
  "kernelspec": {
   "display_name": "Python 3",
   "language": "python",
   "name": "python3"
  },
  "language_info": {
   "codemirror_mode": {
    "name": "ipython",
    "version": 3
   },
   "file_extension": ".py",
   "mimetype": "text/x-python",
   "name": "python",
   "nbconvert_exporter": "python",
   "pygments_lexer": "ipython3",
   "version": "3.7.12"
  },
  "papermill": {
   "default_parameters": {},
   "duration": 19.966113,
   "end_time": "2023-02-23T12:54:09.532309",
   "environment_variables": {},
   "exception": true,
   "input_path": "__notebook__.ipynb",
   "output_path": "__notebook__.ipynb",
   "parameters": {},
   "start_time": "2023-02-23T12:53:49.566196",
   "version": "2.3.4"
  }
 },
 "nbformat": 4,
 "nbformat_minor": 5
}
